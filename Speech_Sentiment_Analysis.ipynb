{
  "nbformat": 4,
  "nbformat_minor": 0,
  "metadata": {
    "colab": {
      "name": "Speech_Sentiment_Analysis.ipynb",
      "provenance": [],
      "collapsed_sections": [],
      "authorship_tag": "ABX9TyO56E87zjJAJDGCgLnfNDLO",
      "include_colab_link": true
    },
    "kernelspec": {
      "name": "python3",
      "display_name": "Python 3"
    },
    "accelerator": "GPU"
  },
  "cells": [
    {
      "cell_type": "markdown",
      "metadata": {
        "id": "view-in-github",
        "colab_type": "text"
      },
      "source": [
        "<a href=\"https://colab.research.google.com/github/sindhu-2507/Speech_Emotion_Recognition/blob/master/Speech_Sentiment_Analysis.ipynb\" target=\"_parent\"><img src=\"https://colab.research.google.com/assets/colab-badge.svg\" alt=\"Open In Colab\"/></a>"
      ]
    },
    {
      "cell_type": "code",
      "metadata": {
        "id": "7-Og16w3rqht",
        "colab_type": "code",
        "colab": {}
      },
      "source": [
        "! pip install -q kaggle"
      ],
      "execution_count": null,
      "outputs": []
    },
    {
      "cell_type": "code",
      "metadata": {
        "id": "LmA9HAzXsLMD",
        "colab_type": "code",
        "colab": {}
      },
      "source": [
        "from google.colab import files\n",
        "\n",
        "files.upload()"
      ],
      "execution_count": null,
      "outputs": []
    },
    {
      "cell_type": "code",
      "metadata": {
        "id": "yJplKNTGsN_a",
        "colab_type": "code",
        "colab": {}
      },
      "source": [
        "! mkdir ~/.kaggle\n",
        "! cp kaggle.json ~/.kaggle/\n",
        "! chmod 600 ~/.kaggle/kaggle.json"
      ],
      "execution_count": null,
      "outputs": []
    },
    {
      "cell_type": "code",
      "metadata": {
        "id": "8v9xtiPosWhw",
        "colab_type": "code",
        "colab": {}
      },
      "source": [
        "!kaggle datasets download -d uwrfkaggler/ravdess-emotional-speech-audio"
      ],
      "execution_count": null,
      "outputs": []
    },
    {
      "cell_type": "code",
      "metadata": {
        "id": "cgoyg8vGseOl",
        "colab_type": "code",
        "colab": {}
      },
      "source": [
        "!mkdir data\n",
        "%cd data/\n",
        "!unzip /content/ravdess-emotional-speech-audio.zip"
      ],
      "execution_count": null,
      "outputs": []
    },
    {
      "cell_type": "code",
      "metadata": {
        "id": "KaYrYt7wsklp",
        "colab_type": "code",
        "colab": {}
      },
      "source": [
        "import os\n",
        "import random\n",
        "import sys\n",
        "dir_path = '/content/data'\n",
        "dir_list=os.listdir(dir_path)\n",
        "dir_list.sort()\n",
        "print (dir_list)\n"
      ],
      "execution_count": null,
      "outputs": []
    },
    {
      "cell_type": "code",
      "metadata": {
        "id": "ln0qWRcBsrZe",
        "colab_type": "code",
        "colab": {}
      },
      "source": [
        "dir_list = dir_list[0:24]\n",
        "print (dir_list)"
      ],
      "execution_count": null,
      "outputs": []
    },
    {
      "cell_type": "code",
      "metadata": {
        "id": "pi5I0R7wsuew",
        "colab_type": "code",
        "colab": {}
      },
      "source": [
        "# %cd /content\n",
        "import matplotlib.pyplot as plt\n",
        "import numpy as np\n",
        "import pandas as pd\n",
        "import os"
      ],
      "execution_count": null,
      "outputs": []
    },
    {
      "cell_type": "code",
      "metadata": {
        "id": "Gv8mqzgpsxEy",
        "colab_type": "code",
        "colab": {}
      },
      "source": [
        "import librosa"
      ],
      "execution_count": null,
      "outputs": []
    },
    {
      "cell_type": "code",
      "metadata": {
        "id": "NxLpVnW7B89V",
        "colab_type": "code",
        "colab": {}
      },
      "source": [
        "pip install --upgrade keras"
      ],
      "execution_count": null,
      "outputs": []
    },
    {
      "cell_type": "code",
      "metadata": {
        "id": "5CRnkCtq2q7l",
        "colab_type": "code",
        "colab": {}
      },
      "source": [
        "#All library imports\n",
        "%matplotlib inline\n",
        "import csv\n",
        "import random\n",
        "# Preprocessing\n",
        "from sklearn.model_selection import train_test_split\n",
        "from sklearn.preprocessing import LabelEncoder, StandardScaler\n",
        "#Keras\n",
        "# import tensorflow as tf\n",
        "#This is simply a linear stack of neural network layers, and it's perfect for the type of feed-forward CNN\n",
        "from keras.models import Sequential, load_model\n",
        "#keras core layers\n",
        "from keras.layers import Dense, Dropout, Activation, Flatten\n",
        "#These are the convolutional layers that will help us efficiently train on the data\n",
        "from keras.layers import Convolution2D, MaxPooling2D\n",
        "#Utilities\n",
        "from keras.utils import np_utils"
      ],
      "execution_count": null,
      "outputs": []
    },
    {
      "cell_type": "code",
      "metadata": {
        "id": "THhfwRO2PYAg",
        "colab_type": "code",
        "colab": {}
      },
      "source": [
        "# Extracting the features\n",
        "def extract_features(directory_path,directory_list):\n",
        "  X = []\n",
        "  Y = []\n",
        "  w = 0\n",
        "  curr_dir = directory_path\n",
        "  dir_list = directory_list\n",
        "  for i in dir_list:\n",
        "    dir_path = os.path.join(curr_dir,i)\n",
        "    for j in os.listdir(dir_path):\n",
        "      features = []\n",
        "      songname = os.path.join(dir_path,j)\n",
        "      p = j.split(\"-\")\n",
        "      y, sr = librosa.load(songname)\n",
        "      mfcc = (librosa.feature.mfcc(y=y, sr=sr,n_mfcc = 40))\n",
        "      X.append(mfcc)\n",
        "      Y.append(int(p[2])-1)\n",
        "      q = len(mfcc[0])\n",
        "      w = max(w,q)\n",
        "  return X,Y,w"
      ],
      "execution_count": null,
      "outputs": []
    },
    {
      "cell_type": "code",
      "metadata": {
        "id": "1I61QZQsw2za",
        "colab_type": "code",
        "colab": {}
      },
      "source": [
        "path = \"/content/data\"\n",
        "X,Y,w = extract_features(path,dir_list)"
      ],
      "execution_count": null,
      "outputs": []
    },
    {
      "cell_type": "code",
      "metadata": {
        "id": "_qhFeg2Gy941",
        "colab_type": "code",
        "colab": {}
      },
      "source": [
        "# Preprocessing the data\n",
        "def preprocess(X,Y,w):\n",
        "  x = np.empty([1440,40,228])\n",
        "  for i in range(len(X)):\n",
        "    # print(len(X[0][0]))\n",
        "    for j in range(len(X[i])):\n",
        "      q = np.asarray(X[i][j])\n",
        "      N = w - len(q)\n",
        "      s = np.pad(q,(0,N),'constant')\n",
        "      x[i][j] = s\n",
        "  X = np.asarray(x)\n",
        "  Y = np.asarray(Y)\n",
        "  return X,Y"
      ],
      "execution_count": null,
      "outputs": []
    },
    {
      "cell_type": "code",
      "metadata": {
        "id": "uoIWjHq5x_fS",
        "colab_type": "code",
        "colab": {}
      },
      "source": [
        "X,Y = preprocess(X,Y,w)\n",
        "print(X.shape)\n",
        "print(Y.shape)"
      ],
      "execution_count": null,
      "outputs": []
    },
    {
      "cell_type": "code",
      "metadata": {
        "id": "Dr_arnylW738",
        "colab_type": "code",
        "colab": {}
      },
      "source": [
        "#Reshaping the X and Y data\n",
        "def reshape(X):\n",
        "# print(X.shape)\n",
        "  X = np.reshape(X,[1440,1,40,228])\n",
        "  # print(X.shape)\n",
        "  # print(X[0])\n",
        "  return X"
      ],
      "execution_count": null,
      "outputs": []
    },
    {
      "cell_type": "code",
      "metadata": {
        "id": "7Nu8c3w71FFW",
        "colab_type": "code",
        "colab": {}
      },
      "source": [
        "X = reshape(X)"
      ],
      "execution_count": null,
      "outputs": []
    },
    {
      "cell_type": "code",
      "metadata": {
        "id": "Vft026xUnfVe",
        "colab_type": "code",
        "colab": {}
      },
      "source": [
        "#dividing the data into train,dev and test sets\n",
        "X_train, X_test, y_train, y_test = train_test_split(X, Y, test_size=0.1, random_state=1)\n",
        "Y_train = np_utils.to_categorical(y_train,8)\n",
        "Y_test = np_utils.to_categorical(y_test,8)\n",
        "print(X_train.shape)\n",
        "print(Y_train.shape)\n",
        "print(X_test.shape)\n",
        "print(Y_test.shape)"
      ],
      "execution_count": null,
      "outputs": []
    },
    {
      "cell_type": "code",
      "metadata": {
        "id": "IrzvGB6yoY5T",
        "colab_type": "code",
        "colab": {}
      },
      "source": [
        "#initialising the model\n",
        "model = Sequential()"
      ],
      "execution_count": null,
      "outputs": []
    },
    {
      "cell_type": "code",
      "metadata": {
        "id": "5N40WOwLE0IC",
        "colab_type": "code",
        "colab": {}
      },
      "source": [
        "# best fit till now\n",
        "model.add(Convolution2D(64, 3 , 3, input_shape=(1,40,228), data_format = 'channels_first'))\n",
        "model.add(MaxPooling2D(pool_size=(2,2)))\n",
        "model.add(Activation('relu'))\n",
        "model.add(Convolution2D(64,3,3))\n",
        "model.add(MaxPooling2D(pool_size = (2,2)))\n",
        "model.add(Activation('relu'))\n",
        "model.add(Flatten())\n",
        "model.add(Dense(128))\n",
        "model.add(Activation('relu'))\n",
        "model.add(Dropout(0.5))\n",
        "model.add(Dense(8))\n",
        "model.add(Activation('softmax'))"
      ],
      "execution_count": null,
      "outputs": []
    },
    {
      "cell_type": "code",
      "metadata": {
        "id": "qJHrOL7aeQwN",
        "colab_type": "code",
        "colab": {}
      },
      "source": [
        "model.compile(loss='categorical_crossentropy', metrics=['accuracy'], optimizer='adam')"
      ],
      "execution_count": null,
      "outputs": []
    },
    {
      "cell_type": "code",
      "metadata": {
        "id": "fSbofTbgjx4O",
        "colab_type": "code",
        "colab": {}
      },
      "source": [
        "model.fit(X_train, Y_train, batch_size=36, epochs=76)"
      ],
      "execution_count": null,
      "outputs": []
    },
    {
      "cell_type": "code",
      "metadata": {
        "id": "uUKDAE52mFZZ",
        "colab_type": "code",
        "colab": {}
      },
      "source": [
        "score = model.evaluate(X_test,Y_test, verbose = 0)\n",
        "y_pred = model.predict_classes(X_test)\n",
        "print(score)"
      ],
      "execution_count": null,
      "outputs": []
    },
    {
      "cell_type": "code",
      "metadata": {
        "id": "ZFUfTuUwUZi9",
        "colab_type": "code",
        "colab": {}
      },
      "source": [
        ""
      ],
      "execution_count": null,
      "outputs": []
    }
  ]
}